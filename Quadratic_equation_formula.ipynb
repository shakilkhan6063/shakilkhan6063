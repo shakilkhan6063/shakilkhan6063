{
 "cells": [
  {
   "cell_type": "code",
   "execution_count": 6,
   "id": "1db04682",
   "metadata": {},
   "outputs": [
    {
     "name": "stdout",
     "output_type": "stream",
     "text": [
      "8\n",
      "1\n",
      "2\n",
      "(-4+31.74901573277509j)\n",
      "(-4-31.74901573277509j)\n"
     ]
    }
   ],
   "source": [
    "import cmath\n",
    "a=int(input())\n",
    "b=int(input())\n",
    "c=int(input())\n",
    "d=(b*b-4*a*c)\n",
    "x1 =(-b+(cmath.sqrt(d)))/2*a\n",
    "print(x1)    \n",
    "x2 = (-b-(cmath.sqrt(d)))/2*a\n",
    "\n",
    "print(x2)\n",
    "\n"
   ]
  },
  {
   "cell_type": "code",
   "execution_count": null,
   "id": "616a471f",
   "metadata": {},
   "outputs": [],
   "source": []
  },
  {
   "cell_type": "code",
   "execution_count": null,
   "id": "eb3f8ad6",
   "metadata": {},
   "outputs": [],
   "source": []
  }
 ],
 "metadata": {
  "kernelspec": {
   "display_name": "Python 3 (ipykernel)",
   "language": "python",
   "name": "python3"
  },
  "language_info": {
   "codemirror_mode": {
    "name": "ipython",
    "version": 3
   },
   "file_extension": ".py",
   "mimetype": "text/x-python",
   "name": "python",
   "nbconvert_exporter": "python",
   "pygments_lexer": "ipython3",
   "version": "3.9.13"
  }
 },
 "nbformat": 4,
 "nbformat_minor": 5
}
