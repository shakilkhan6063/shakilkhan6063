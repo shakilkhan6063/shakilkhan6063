{
 "cells": [
  {
   "cell_type": "code",
   "execution_count": 8,
   "id": "e2678cf7",
   "metadata": {},
   "outputs": [],
   "source": [
    "dic= {\n",
    "    'name':'shakil khan',\n",
    "    'study':'cse',\n",
    "    \n",
    "}"
   ]
  },
  {
   "cell_type": "code",
   "execution_count": 9,
   "id": "1e55b7d7",
   "metadata": {},
   "outputs": [
    {
     "data": {
      "text/plain": [
       "{'name': 'shakil khan', 'study': 'cse'}"
      ]
     },
     "execution_count": 9,
     "metadata": {},
     "output_type": "execute_result"
    }
   ],
   "source": [
    "dic"
   ]
  },
  {
   "cell_type": "code",
   "execution_count": 10,
   "id": "a1fc7c9c",
   "metadata": {},
   "outputs": [
    {
     "data": {
      "text/plain": [
       "dict"
      ]
     },
     "execution_count": 10,
     "metadata": {},
     "output_type": "execute_result"
    }
   ],
   "source": [
    "type(dic)"
   ]
  },
  {
   "cell_type": "code",
   "execution_count": 14,
   "id": "749887bd",
   "metadata": {},
   "outputs": [
    {
     "data": {
      "text/plain": [
       "dict_values(['shakil khan', 'cse'])"
      ]
     },
     "execution_count": 14,
     "metadata": {},
     "output_type": "execute_result"
    }
   ],
   "source": [
    "dic.values()"
   ]
  },
  {
   "cell_type": "code",
   "execution_count": 15,
   "id": "1369e53c",
   "metadata": {},
   "outputs": [
    {
     "data": {
      "text/plain": [
       "dict_keys(['name', 'study'])"
      ]
     },
     "execution_count": 15,
     "metadata": {},
     "output_type": "execute_result"
    }
   ],
   "source": [
    "dic.keys()"
   ]
  },
  {
   "cell_type": "code",
   "execution_count": 16,
   "id": "a265c275",
   "metadata": {},
   "outputs": [],
   "source": [
    "dic['deperment']='cse'"
   ]
  },
  {
   "cell_type": "code",
   "execution_count": 17,
   "id": "f6fce5f7",
   "metadata": {},
   "outputs": [
    {
     "data": {
      "text/plain": [
       "{'name': 'shakil khan', 'study': 'cse', 'deperment': 'cse'}"
      ]
     },
     "execution_count": 17,
     "metadata": {},
     "output_type": "execute_result"
    }
   ],
   "source": [
    "dic"
   ]
  },
  {
   "cell_type": "code",
   "execution_count": 18,
   "id": "318a0af8",
   "metadata": {},
   "outputs": [],
   "source": [
    "dic.update({'deperment':'ai major'})"
   ]
  },
  {
   "cell_type": "code",
   "execution_count": 19,
   "id": "cdda679c",
   "metadata": {},
   "outputs": [
    {
     "data": {
      "text/plain": [
       "{'name': 'shakil khan', 'study': 'cse', 'deperment': 'ai major'}"
      ]
     },
     "execution_count": 19,
     "metadata": {},
     "output_type": "execute_result"
    }
   ],
   "source": [
    "dic"
   ]
  },
  {
   "cell_type": "code",
   "execution_count": null,
   "id": "d4d00bc9",
   "metadata": {},
   "outputs": [],
   "source": [
    "n = int(input())\n",
    "d = { }\n",
    "for i in range(n):\n",
    "    key=input()\n",
    "    value=input()\n",
    "    d[key]=value\n",
    "print(d)"
   ]
  }
 ],
 "metadata": {
  "kernelspec": {
   "display_name": "Python 3 (ipykernel)",
   "language": "python",
   "name": "python3"
  },
  "language_info": {
   "codemirror_mode": {
    "name": "ipython",
    "version": 3
   },
   "file_extension": ".py",
   "mimetype": "text/x-python",
   "name": "python",
   "nbconvert_exporter": "python",
   "pygments_lexer": "ipython3",
   "version": "3.9.13"
  }
 },
 "nbformat": 4,
 "nbformat_minor": 5
}
