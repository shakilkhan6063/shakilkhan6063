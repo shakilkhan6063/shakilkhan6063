{
 "cells": [
  {
   "cell_type": "code",
   "execution_count": 2,
   "id": "52fd43ce",
   "metadata": {},
   "outputs": [
    {
     "name": "stdout",
     "output_type": "stream",
     "text": [
      "enter the number of x : 10\n",
      "Weird\n"
     ]
    }
   ],
   "source": [
    "x = int(input(\"enter the number of x : \"))\n",
    "if(x%2==0):\n",
    "    if(x in range(2,5)):\n",
    "          print(\"Not Weird\")\n",
    "    if(x in range(6,20)):\n",
    "        print(\"Weird\")\n",
    "    if(x>20):\n",
    "        print(\"Not Weird\")\n",
    "else:\n",
    "    print(\"Weird\")\n"
   ]
  },
  {
   "cell_type": "code",
   "execution_count": null,
   "id": "29d08dcf",
   "metadata": {},
   "outputs": [],
   "source": []
  }
 ],
 "metadata": {
  "kernelspec": {
   "display_name": "Python 3 (ipykernel)",
   "language": "python",
   "name": "python3"
  },
  "language_info": {
   "codemirror_mode": {
    "name": "ipython",
    "version": 3
   },
   "file_extension": ".py",
   "mimetype": "text/x-python",
   "name": "python",
   "nbconvert_exporter": "python",
   "pygments_lexer": "ipython3",
   "version": "3.9.13"
  }
 },
 "nbformat": 4,
 "nbformat_minor": 5
}
