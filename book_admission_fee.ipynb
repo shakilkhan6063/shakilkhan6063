{
 "cells": [
  {
   "cell_type": "code",
   "execution_count": 2,
   "id": "730030e3",
   "metadata": {},
   "outputs": [
    {
     "name": "stdout",
     "output_type": "stream",
     "text": [
      "12\n",
      "your admission cost is $25\n"
     ]
    }
   ],
   "source": [
    "age=int(input())\n",
    "if age < 4:\n",
    "    print(\"your admission cost is $0\")\n",
    "elif age <18:\n",
    "    print(\"your admission cost is $25\")\n",
    "else:\n",
    "    print(\"your admission cost is $40\")\n",
    "    "
   ]
  },
  {
   "cell_type": "code",
   "execution_count": null,
   "id": "5925741d",
   "metadata": {},
   "outputs": [],
   "source": []
  }
 ],
 "metadata": {
  "kernelspec": {
   "display_name": "Python 3 (ipykernel)",
   "language": "python",
   "name": "python3"
  },
  "language_info": {
   "codemirror_mode": {
    "name": "ipython",
    "version": 3
   },
   "file_extension": ".py",
   "mimetype": "text/x-python",
   "name": "python",
   "nbconvert_exporter": "python",
   "pygments_lexer": "ipython3",
   "version": "3.9.13"
  }
 },
 "nbformat": 4,
 "nbformat_minor": 5
}
